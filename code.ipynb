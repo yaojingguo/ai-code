{
 "cells": [
  {
   "cell_type": "code",
   "execution_count": 3,
   "id": "fb614e94",
   "metadata": {},
   "outputs": [
    {
     "name": "stdout",
     "output_type": "stream",
     "text": [
      "{'a': 1, 'b': 2, 'c': 3, 'd': 4}\n",
      "pop_obj: ('d', 4)\n",
      "dict: {'a': 1, 'b': 2, 'c': 3}\n",
      "------\n",
      "pop_obj: ('c', 3)\n",
      "dict: {'a': 1, 'b': 2}\n"
     ]
    }
   ],
   "source": [
    "d = {'a': 1, 'b': 2, 'c': 3, 'd': 4}\n",
    "print(d)\n",
    "pop_obj = d.popitem()\n",
    "print('pop_obj:', pop_obj)\n",
    "print('dict:', d)\n",
    "print('------')\n",
    "pop_obj = d.popitem()\n",
    "print('pop_obj:', pop_obj)\n",
    "print('dict:', d)\n"
   ]
  },
  {
   "cell_type": "code",
   "execution_count": 4,
   "id": "13c1fb99",
   "metadata": {},
   "outputs": [
    {
     "name": "stdout",
     "output_type": "stream",
     "text": [
      "pop_obj: 2\n",
      "dict: {'a': 1, 'c': 3, 'd': 4}\n",
      "---------------------\n",
      "pop_obj: 2\n",
      "dict: {'a': 1, 'c': 3, 'd': 4}\n"
     ]
    }
   ],
   "source": [
    "d = {'a': 1, 'b': 2, 'c': 3, 'd': 4}\n",
    "pop_obj = d.pop('b')\n",
    "print('pop_obj:', pop_obj)\n",
    "print('dict:', d)\n",
    "print('---------------------')\n",
    "d = {'a': 1, 'b': 2, 'c': 3, 'd': 4}\n",
    "pop_obj = d.pop('b', 'none')\n",
    "print('pop_obj:', pop_obj)\n",
    "print('dict:', d)\n",
    "\n"
   ]
  },
  {
   "cell_type": "code",
   "execution_count": 5,
   "id": "6de030c7",
   "metadata": {},
   "outputs": [],
   "source": [
    "d = {'a': 1, 'b': 2, 'c': 3, 'd': 4}"
   ]
  },
  {
   "cell_type": "code",
   "execution_count": 6,
   "id": "20c12395",
   "metadata": {},
   "outputs": [
    {
     "data": {
      "text/plain": [
       "dict_items([('a', 1), ('b', 2), ('c', 3), ('d', 4)])"
      ]
     },
     "execution_count": 6,
     "metadata": {},
     "output_type": "execute_result"
    }
   ],
   "source": [
    "d.items()"
   ]
  },
  {
   "cell_type": "code",
   "execution_count": 8,
   "id": "26887aae",
   "metadata": {},
   "outputs": [
    {
     "name": "stdout",
     "output_type": "stream",
     "text": [
      "k: a, v: 1\n",
      "k: b, v: 2\n",
      "k: c, v: 3\n",
      "k: d, v: 4\n"
     ]
    }
   ],
   "source": [
    "for k, v in d.items():\n",
    "    print(f\"k: {k}, v: {v}\")"
   ]
  },
  {
   "cell_type": "code",
   "execution_count": 10,
   "id": "82abe2aa",
   "metadata": {},
   "outputs": [
    {
     "name": "stdout",
     "output_type": "stream",
     "text": [
      "0\n",
      "1\n",
      "2\n",
      "3\n",
      "4\n"
     ]
    }
   ],
   "source": [
    "from itertools import islice\n",
    "\n",
    "# Create a list of numbers　\n",
    "numbers = range(0, 20)\n",
    "\n",
    "# Use islice to get the first 5 numbers　\n",
    "first_five = islice(numbers, 5)\n",
    "\n",
    "# Print the first five numbers　\n",
    "for number in first_five:\n",
    "    print(number)"
   ]
  },
  {
   "cell_type": "code",
   "execution_count": null,
   "id": "317f14b0",
   "metadata": {},
   "outputs": [],
   "source": []
  },
  {
   "cell_type": "code",
   "execution_count": null,
   "id": "56c635f1",
   "metadata": {},
   "outputs": [],
   "source": []
  },
  {
   "cell_type": "code",
   "execution_count": null,
   "id": "2c9d2935",
   "metadata": {},
   "outputs": [],
   "source": []
  },
  {
   "cell_type": "code",
   "execution_count": null,
   "id": "0ab3ea54",
   "metadata": {},
   "outputs": [],
   "source": []
  }
 ],
 "metadata": {
  "kernelspec": {
   "display_name": "Python 3 (ipykernel)",
   "language": "python",
   "name": "python3"
  },
  "language_info": {
   "codemirror_mode": {
    "name": "ipython",
    "version": 3
   },
   "file_extension": ".py",
   "mimetype": "text/x-python",
   "name": "python",
   "nbconvert_exporter": "python",
   "pygments_lexer": "ipython3",
   "version": "3.10.13"
  }
 },
 "nbformat": 4,
 "nbformat_minor": 5
}
