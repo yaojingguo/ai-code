{
 "cells": [
  {
   "cell_type": "code",
   "execution_count": 1,
   "id": "1a71246b",
   "metadata": {},
   "outputs": [
    {
     "data": {
      "application/vnd.jupyter.widget-view+json": {
       "model_id": "aec2c0cd4a534dd0ae1dd7d02c96f391",
       "version_major": 2,
       "version_minor": 0
      },
      "text/plain": [
       "VBox(children=(HTML(value='<center> <img\\nsrc=https://huggingface.co/front/assets/huggingface_logo-noborder.sv…"
      ]
     },
     "metadata": {},
     "output_type": "display_data"
    }
   ],
   "source": [
    "from huggingface_hub import notebook_login\n",
    "\n",
    "notebook_login()"
   ]
  },
  {
   "cell_type": "code",
   "execution_count": 3,
   "id": "fff7c264",
   "metadata": {},
   "outputs": [
    {
     "data": {
      "text/plain": [
       "CommitInfo(commit_url='https://huggingface.co/yaojingguo/whisper-small-dv/commit/697706daec8f30a5cce4e659d2589775bbe37538', commit_message='Upload config', commit_description='', oid='697706daec8f30a5cce4e659d2589775bbe37538', pr_url=None, pr_revision=None, pr_num=None)"
      ]
     },
     "execution_count": 3,
     "metadata": {},
     "output_type": "execute_result"
    }
   ],
   "source": [
    "from transformers import GenerationConfig\n",
    "\n",
    "model_id = \"yaojingguo/whisper-small-dv\"  # set to your model id on the Hub\n",
    "MULTILINGUAL = True  # set True for multilingual models, False for English-only\n",
    "\n",
    "if MULTILINGUAL:\n",
    "    generation_config = GenerationConfig.from_pretrained(\"openai/whisper-large-v2\")\n",
    "else:\n",
    "    generation_config = GenerationConfig.from_pretrained(\"openai/whisper-medium.en\")\n",
    "\n",
    "generation_config.push_to_hub(model_id)"
   ]
  },
  {
   "cell_type": "code",
   "execution_count": null,
   "id": "ed4d3fc9",
   "metadata": {},
   "outputs": [],
   "source": []
  },
  {
   "cell_type": "code",
   "execution_count": null,
   "id": "99d580dc",
   "metadata": {},
   "outputs": [],
   "source": []
  }
 ],
 "metadata": {
  "kernelspec": {
   "display_name": "Python 3 (ipykernel)",
   "language": "python",
   "name": "python3"
  },
  "language_info": {
   "codemirror_mode": {
    "name": "ipython",
    "version": 3
   },
   "file_extension": ".py",
   "mimetype": "text/x-python",
   "name": "python",
   "nbconvert_exporter": "python",
   "pygments_lexer": "ipython3",
   "version": "3.10.13"
  }
 },
 "nbformat": 4,
 "nbformat_minor": 5
}
