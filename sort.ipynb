{
 "cells": [
  {
   "cell_type": "code",
   "execution_count": 7,
   "id": "e4af478c",
   "metadata": {},
   "outputs": [
    {
     "name": "stdout",
     "output_type": "stream",
     "text": [
      "['wa', 'zb', 'xc', 'yd']\n"
     ]
    }
   ],
   "source": [
    "## Say we have a list of strings we want to sort by the last letter of the string.\n",
    "strs = ['xc', 'zb', 'yd' ,'wa']\n",
    "\n",
    "## Write a little function that takes a string, and returns its last letter.\n",
    "## This will be the key function (takes in 1 value, returns 1 value).\n",
    "def MyFn(s):\n",
    "    return s[-1]\n",
    "\n",
    "## Now pass key=MyFn to sorted() to sort by the last letter:\n",
    "print(sorted(strs, key=MyFn))  ## ['wa', 'zb', 'xc', 'yd']"
   ]
  },
  {
   "cell_type": "code",
   "execution_count": 8,
   "id": "2a7341e9",
   "metadata": {},
   "outputs": [
    {
     "data": {
      "text/plain": [
       "[('Anil', 'Wang', 24), ('Anil', 'Frank', 100), ('Freddy', 'Frank', 3)]"
      ]
     },
     "execution_count": 8,
     "metadata": {},
     "output_type": "execute_result"
    }
   ],
   "source": [
    "from operator import itemgetter\n",
    "\n",
    "# (first name, last name, score) tuples\n",
    "grade = [('Freddy', 'Frank', 3), ('Anil', 'Frank', 100), ('Anil', 'Wang', 24)]\n",
    "sorted(grade, key=itemgetter(1,0))\n",
    "# [('Anil', 'Frank', 100), ('Freddy', 'Frank', 3), ('Anil', 'Wang', 24)]\n",
    "\n",
    "sorted(grade, key=itemgetter(0,-1))\n",
    "#[('Anil', 'Wang', 24), ('Anil', 'Frank', 100), ('Freddy', 'Frank', 3)]"
   ]
  },
  {
   "cell_type": "code",
   "execution_count": 9,
   "id": "a9fceed2",
   "metadata": {},
   "outputs": [
    {
     "data": {
      "text/plain": [
       "[('Freddy', 'Frank', 3), ('Anil', 'Wang', 24), ('Anil', 'Frank', 100)]"
      ]
     },
     "execution_count": 9,
     "metadata": {},
     "output_type": "execute_result"
    }
   ],
   "source": [
    "sorted(grade, key=itemgetter(2))"
   ]
  },
  {
   "cell_type": "code",
   "execution_count": 13,
   "id": "5dd00d10",
   "metadata": {},
   "outputs": [
    {
     "ename": "SyntaxError",
     "evalue": "invalid decimal literal (75019796.py, line 4)",
     "output_type": "error",
     "traceback": [
      "\u001b[0;36m  Cell \u001b[0;32mIn[13], line 4\u001b[0;36m\u001b[0m\n\u001b[0;31m    return -1\u001b[0m\n\u001b[0m            ^\u001b[0m\n\u001b[0;31mSyntaxError\u001b[0m\u001b[0;31m:\u001b[0m invalid decimal literal\n"
     ]
    }
   ],
   "source": [
    "# Define a comparison function　\n",
    "def compare(a, b):\n",
    "    if len(a) < len(b):\n",
    "      return -1　\n",
    "    elif len(a) > len(b):\n",
    "      return 1　\n",
    "    else:\n",
    "      return 0　\n",
    "\n",
    "# Convert it to a key function　\n",
    "key_func = functools.cmp_to_key(compare)\n",
    "\n",
    "# Use it to sort a list of strings by length　\n",
    "words = ['apple', 'fig', 'kiwi', 'banana']\n",
    "sorted_words = sorted(words, key=key_func)\n",
    "\n",
    "print(sorted_words)"
   ]
  },
  {
   "cell_type": "code",
   "execution_count": null,
   "id": "2f0542e0",
   "metadata": {},
   "outputs": [],
   "source": []
  },
  {
   "cell_type": "code",
   "execution_count": null,
   "id": "9971e54d",
   "metadata": {},
   "outputs": [],
   "source": []
  },
  {
   "cell_type": "code",
   "execution_count": null,
   "id": "9221d7ac",
   "metadata": {},
   "outputs": [],
   "source": []
  }
 ],
 "metadata": {
  "kernelspec": {
   "display_name": "Python 3 (ipykernel)",
   "language": "python",
   "name": "python3"
  },
  "language_info": {
   "codemirror_mode": {
    "name": "ipython",
    "version": 3
   },
   "file_extension": ".py",
   "mimetype": "text/x-python",
   "name": "python",
   "nbconvert_exporter": "python",
   "pygments_lexer": "ipython3",
   "version": "3.10.13"
  }
 },
 "nbformat": 4,
 "nbformat_minor": 5
}
